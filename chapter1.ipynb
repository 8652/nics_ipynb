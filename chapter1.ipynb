{
 "cells": [
  {
   "cell_type": "code",
   "execution_count": 4,
   "metadata": {},
   "outputs": [],
   "source": [
    "import torch\n",
    "import matplotlib.pyplot as plt"
   ]
  },
  {
   "cell_type": "code",
   "execution_count": 5,
   "metadata": {},
   "outputs": [],
   "source": [
    "torch.manual_seed(10)\n",
    "lr = 0.05\n",
    "\n",
    "# 定义线性回归数据\n",
    "x = torch.rand(20, 1) * 10\n",
    "y = 2*x + (5+torch.randn(20, 1))\n",
    "\n",
    "# 定义网络\n",
    "w = torch.randn((1), requires_grad=True)\n",
    "b = torch.randn((1), requires_grad=True)"
   ]
  },
  {
   "cell_type": "code",
   "execution_count": null,
   "metadata": {},
   "outputs": [],
   "source": [
    "for iteration in range(1000):\n",
    "    wx = torch.mul(w, x) # w @ x\n",
    "    y_pred = torch.add(wx, b)\n",
    "\n",
    "    # MSE loss\n",
    "    loss = (0.5 * (y-y_pred) ** 2).mean()\n",
    "    loss.backward()\n",
    "\n",
    "    b.data.sub_(lr * b.grad)\n",
    "    w.data.sub_(lr * w.grad)\n",
    "\n",
    "    w.grad.zero_()\n",
    "    b.grad.zero_()\n",
    "\n",
    "    if iteration % 20 == 0:\n",
    "        plt.cla()\n",
    "        plt.scatter(x.data.numpy(), y.data.numpy())\n",
    "        plt.scatter(x.data.numpy(), y_pred.data.numpy(), 'r-', lw=5)\n"
   ]
  }
 ],
 "metadata": {
  "kernelspec": {
   "display_name": "py38",
   "language": "python",
   "name": "python3"
  },
  "language_info": {
   "codemirror_mode": {
    "name": "ipython",
    "version": 3
   },
   "file_extension": ".py",
   "mimetype": "text/x-python",
   "name": "python",
   "nbconvert_exporter": "python",
   "pygments_lexer": "ipython3",
   "version": "3.8.0"
  }
 },
 "nbformat": 4,
 "nbformat_minor": 2
}
